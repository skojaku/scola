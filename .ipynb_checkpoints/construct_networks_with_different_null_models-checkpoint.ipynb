{
 "cells": [
  {
   "cell_type": "code",
   "execution_count": null,
   "metadata": {},
   "outputs": [],
   "source": [
    "import pandas as pd\n",
    "import numpy as np\n",
    "import seaborn as sns\n",
    "import matplotlib.pyplot as plt\n",
    "import scola"
   ]
  },
  {
   "cell_type": "code",
   "execution_count": null,
   "metadata": {},
   "outputs": [],
   "source": [
    "# Ticker names\n",
    "ticker_names = pd.read_csv(\"data/ticker_names.csv\", sep=\"\\t\")\n",
    "\n",
    "# Load the data\n",
    "log_return = pd.read_csv(\"data/sp500-log-return.csv\", sep=\"\\t\")\n",
    "\n",
    "L = log_return.shape[0]\n",
    "N = log_return.shape[1]\n",
    "node_names = log_return.columns \n",
    "C_samp = log_return.corr().values"
   ]
  },
  {
   "cell_type": "code",
   "execution_count": null,
   "metadata": {},
   "outputs": [],
   "source": [
    "import matplotlib.colors as colors\n",
    "\n",
    "def plot_corr(A, ax = None, num_colors = 10):\n",
    "    \n",
    "    min_w = np.min(A)\n",
    "    max_w = np.max(A)\n",
    "    bounds = np.linspace( 0.125 * np.floor(min_w / 0.125),  0.125 * np.ceil(max_w / 0.125), num_colors )\n",
    "    \n",
    "    norm = colors.BoundaryNorm(boundaries=bounds, ncolors=256)\n",
    "    cmap = sns.diverging_palette(220, 10, as_cmap=True)\n",
    "    ax = sns.heatmap(A, cmap=cmap,\\\n",
    "                     center = 0,\\\n",
    "                     vmax=max_w,\\\n",
    "                     vmin=min_w,\\\n",
    "                     square=True,\\\n",
    "                     mask=A==0,\\\n",
    "                     norm=norm,\\\n",
    "                     ax = ax\\\n",
    "                    )\n",
    "    \n",
    "    ax.set_xticks([])\n",
    "    ax.set_yticks([])\n",
    "    return ax\n"
   ]
  },
  {
   "cell_type": "code",
   "execution_count": null,
   "metadata": {},
   "outputs": [],
   "source": [
    "ax = plot_corr(C_samp)\n",
    "plt.savefig(\"C_samp-sp500.png\", bbox_inches=\"tight\", dpi=300)"
   ]
  },
  {
   "cell_type": "code",
   "execution_count": null,
   "metadata": {},
   "outputs": [],
   "source": [
    "# Generate networks with different null models\n",
    "null_models = [\"white-noise\", \"hqs\", \"config\"]\n",
    "\n",
    "import pickle\n",
    "with open(\"result.pickle\", \"rb\") as f:\n",
    "    Results = pickle.load(f)\n",
    "    \n",
    "#Results = {}\n",
    "#for null_model in null_models:\n",
    "#    W, C_null, selected_null_model, EBIC, construct_from, all_networks\\\n",
    "#        = scola.corr2net.transform(C_samp,\\\n",
    "#                                   L=L,\\\n",
    "#                                   disp=True,\\\n",
    "#                                   null_model = null_model)\n",
    "#    \n",
    "#    Results[null_model] = {\"W\":W, \"C_null\":C_null, \"EBIC\":EBIC, \"all_networks\":all_networks}\n"
   ]
  },
  {
   "cell_type": "code",
   "execution_count": null,
   "metadata": {},
   "outputs": [],
   "source": [
    "fig, axes = plt.subplots(nrows = 1, ncols = 3, figsize = (15, 5))\n",
    "for i, null_model in enumerate( null_models ):\n",
    "    ax = plot_corr(Results[null_model][\"W\"], ax = axes[i])\n",
    "    ax.set_title(null_model)\n",
    "plt.show()"
   ]
  },
  {
   "cell_type": "code",
   "execution_count": null,
   "metadata": {},
   "outputs": [],
   "source": [
    "import pickle\n",
    "with open(\"result.pickle\", \"wb\") as f:\n",
    "    pickle.dump(Results, f)"
   ]
  },
  {
   "cell_type": "code",
   "execution_count": null,
   "metadata": {},
   "outputs": [],
   "source": [
    "%reload_ext autoreload\n",
    "%autoreload\n",
    "import networkx as nx\n",
    "import matplotlib\n",
    "print(nx.__version__)\n",
    "\n",
    "# Compute the node position\n",
    "W = np.zeros_like(C_samp)\n",
    "for _, r in Results.items():\n",
    "    W+=np.abs(r[\"W\"])>0\n",
    "G = nx.from_numpy_array(np.abs(Results[\"config\"][\"W\"])>0)\n",
    "#pos = nx.spring_layout(G, k = 0.4)\n",
    "pos = nx.circular_layout(G)\n",
    "\n",
    "# Compute the node colour\n",
    "gics = ticker_names.set_index(\"name\").loc[node_names][\"gics\"]\n",
    "_,group_id = np.unique(gics, return_inverse = True )\n",
    "\n",
    "fig, axes = plt.subplots(nrows = 1, ncols = 3, figsize = (15, 5))\n",
    "\n",
    "for i, null_model in enumerate( null_models ):\n",
    "    G = nx.from_numpy_array(Results[null_model][\"W\"])\n",
    "    nx.draw_networkx_nodes(G, pos=pos, node_size=12, cmap=\"tab10\", ax = axes[i], with_labels = False, node_color = group_id)\n",
    "    nx.draw_networkx_edges(G, pos=pos, connectionstyle='arc3, rad=2', ax=axes[i])\n",
    "    axes[i].set_title(null_model)\n",
    "plt.show()\n"
   ]
  },
  {
   "cell_type": "code",
   "execution_count": null,
   "metadata": {},
   "outputs": [],
   "source": [
    "import networkx as nx"
   ]
  },
  {
   "cell_type": "code",
   "execution_count": null,
   "metadata": {},
   "outputs": [],
   "source": []
  }
 ],
 "metadata": {
  "kernelspec": {
   "display_name": "Python 3",
   "language": "python",
   "name": "python3"
  },
  "language_info": {
   "codemirror_mode": {
    "name": "ipython",
    "version": 3
   },
   "file_extension": ".py",
   "mimetype": "text/x-python",
   "name": "python",
   "nbconvert_exporter": "python",
   "pygments_lexer": "ipython3",
   "version": "3.5.2"
  }
 },
 "nbformat": 4,
 "nbformat_minor": 2
}
